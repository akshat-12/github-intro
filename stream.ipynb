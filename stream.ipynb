{
 "cells": [
  {
   "cell_type": "code",
   "execution_count": 1,
   "metadata": {},
   "outputs": [],
   "source": [
    "\n",
    "import bz2\n",
    "from sklearn.metrics import f1_score, roc_auc_score, accuracy_score\n",
    "import re\n",
    "import pandas as pd\n",
    "import numpy as np\n",
    "import matplotlib.pyplot as plt\n",
    "%matplotlib inline\n",
    "import tweepy"
   ]
  },
  {
   "cell_type": "code",
   "execution_count": 2,
   "metadata": {},
   "outputs": [],
   "source": [
    "import mysql.connector"
   ]
  },
  {
   "cell_type": "code",
   "execution_count": null,
   "metadata": {},
   "outputs": [],
   "source": [
    "class MyStreamListener(tweepy.StreamListener):\n",
    "    def on_status(self, status):\n",
    "        id_str = status.id_str\n",
    "        created_at = status.created_at\n",
    "        text = status.text\n",
    "        \n",
    "        #preprocess text here\n",
    "        \n",
    "        #rating = model.predict()\n",
    "        \n",
    "        user_created_at = status.user.created_at\n",
    "        \n",
    "        # user_location = preprocess(status.user.location)\n",
    "        \n",
    "        #user_description = precprocess(status.user.description)\n",
    "        \n",
    "        user_followers_count = status.user.followers_count\n",
    "        \n",
    "        retweet_count = status.retweet_count\n",
    "        favorite_count = status.favorite_count\n",
    "        \n",
    "        print(status.text)\n",
    "        \n",
    "        if mydb.is_connected():\n",
    "            mycursor = mydb.cursor()\n",
    "            sql = \"INSERT INTO {} (id_str, created_at, text, rating, user_created_at, user_location, user_description, user_followers_count, retweet_count, favorite_count) VALUES (%s, %s, %s, %s, %s, %s, %s, %s, %s, %s, )\".format(settings.TABLE_NAME)\n",
    "            val = (id_str, created_at, text, rating, user_created_at, user_location, user_description, user_followers_count, retweet_count, favorite_count)\n",
    "            mycursor.execute(sql, val)\n",
    "            mydb.commit()\n",
    "            mycursor.close()\n",
    "        \n",
    "    def on_error(self, status_code):\n",
    "        if status_code == 420:\n",
    "            return False"
   ]
  },
  {
   "cell_type": "code",
   "execution_count": null,
   "metadata": {},
   "outputs": [],
   "source": [
    "api_key = \"NNS9dwHAS2Q0RSazCTEnFUBTQ\"\n",
    "api_secret_key = \"URS88pul2QEjjnNBFVE0aoCXeFtIlEKKxjttrVF56HMrQaVBLO\"\n",
    "\n",
    "access_token = \"977798650725355521-4xVLSXn3qi0TTLiyW9OTKaKaA6JcmpG\"\n",
    "access_token_secret = \"8UPXCqrkYWeFSiAmJa9jpgBa7I1wjQZAuPA1RZsUAXsnT\"\n",
    "\n",
    "auth = tweepy.OAuthHandler(api_key, api_secret_key)\n",
    "auth.set_access_token(access_token, access_token_secret)\n",
    "api = tweepy.API(auth)"
   ]
  },
  {
   "cell_type": "code",
   "execution_count": null,
   "metadata": {},
   "outputs": [],
   "source": [
    "import mysql.connector\n",
    "mydb = mysql.connector.connect(\n",
    "    host = 'localhost',\n",
    "    user = 'root',\n",
    "    passwd = 'XXXXXXXXX',\n",
    "    database = 'TWITTERDB',\n",
    "    charset = 'utf8'\n",
    ")"
   ]
  },
  {
   "cell_type": "code",
   "execution_count": null,
   "metadata": {},
   "outputs": [],
   "source": [
    "TABLE_ATTRIBUTES = \"id_str VARCHAR(255), created_at DATETIME, text VARCHAR(255), \\\n",
    "            rating FLOAT(1,3), user_created_at VARCHAR(255), user_location VARCHAR(255), \\\n",
    "            user_description VARCHAR(255), user_followers_count INT, \\\n",
    "            retweet_count INT, favorite_count INT\"\n",
    "\n",
    "if mydb.is_connected():\n",
    "    mycursor = mydb.cursor()\n",
    "    mycursor.execute(\"\"\"\n",
    "        SELECT COUNT(*)\n",
    "        FROM information_schema.tables\n",
    "        WHERE table_name = '{0}'\n",
    "        \"\"\".format(\"TWITTER\"))\n",
    "    if mycursor.fetchone()[0] != 1:\n",
    "        mycursor.execute(\"CREATE TABLE {} ({})\".format(\"TWITTER\", ))\n",
    "        mydb.commit()\n",
    "    mycursor.close()\n"
   ]
  },
  {
   "cell_type": "code",
   "execution_count": null,
   "metadata": {},
   "outputs": [],
   "source": [
    "track_words = [\"@amazon\", \"jeff bezos\"]\n",
    "myStreamListener = MyStreamListener()\n",
    "myStream = tweepy.Stream(auth = api.auth, listener = myStreamListener)\n",
    "myStream.filter(languages=[\"en\"], track = track_words)\n",
    "\n",
    "myStream.close()"
   ]
  }
 ],
 "metadata": {
  "kernelspec": {
   "display_name": "Python 3",
   "language": "python",
   "name": "python3"
  },
  "language_info": {
   "codemirror_mode": {
    "name": "ipython",
    "version": 3
   },
   "file_extension": ".py",
   "mimetype": "text/x-python",
   "name": "python",
   "nbconvert_exporter": "python",
   "pygments_lexer": "ipython3",
   "version": "3.7.7"
  }
 },
 "nbformat": 4,
 "nbformat_minor": 4
}
